{
 "cells": [
  {
   "cell_type": "markdown",
   "metadata": {},
   "source": [
    "# Welcome to DSC 495 004 Data Wrangling and Web Scraping\n",
    "***"
   ]
  },
  {
   "cell_type": "markdown",
   "metadata": {},
   "source": [
    "1. Overview of research project\n",
    "1. Syllabus\n",
    "1. Discussion\n",
    "1. Some data exploration\n",
    "***"
   ]
  },
  {
   "cell_type": "markdown",
   "metadata": {},
   "source": [
    "We will start by bringing in the libraries we need. Over the course of the semester we will make ample use of the libraries `urllib` and `BeautifulSoup`. \n",
    "\n",
    "Many python packages (and the programming language itself) have neat nomenclature origins. In this case `BeautifulSoup` is named for the song sung by the Mock Turtle in Lewis Carroll's _Alice in Wonderland_. "
   ]
  },
  {
   "cell_type": "code",
   "execution_count": 10,
   "metadata": {},
   "outputs": [],
   "source": [
    "from urllib.request import urlopen\n",
    "from bs4 import BeautifulSoup"
   ]
  },
  {
   "cell_type": "code",
   "execution_count": 13,
   "metadata": {},
   "outputs": [],
   "source": [
    "html = urlopen(\"https://www.ncsu.edu/\")\n",
    "soup = BeautifulSoup(html.read(), 'html.parser')"
   ]
  },
  {
   "cell_type": "markdown",
   "metadata": {},
   "source": [
    "`BeautifulSoup` takes the webpage and creates a tree of Python objects. \n",
    "The first argument is the XML (Extensible Markup Language), HTML (HyperText Markup Language), or page contents. \n",
    "The second argument explicitly states the parser to be used. \n",
    "\n",
    "We can see the HTML by using `Ctrl+I` on a webpage. This is the inspect command in many web browsers. \n",
    "\n",
    "We want to find what the feature columns are for the day. \n",
    "\n",
    "NCSU uses division tags to separate these columns on their webpage. These tags appear as `<div>` in the HTML. \n"
   ]
  },
  {
   "cell_type": "code",
   "execution_count": 83,
   "metadata": {},
   "outputs": [
    {
     "name": "stdout",
     "output_type": "stream",
     "text": [
      "<div class=\"feature-column\">\n",
      "<a class=\"feature-block\" data-ua-action=\"News Click\" data-ua-cat=\"News Module\" data-ua-label=\"https://news.ncsu.edu/2022/01/is-flurona-even-a-real-thing/\" href=\"https://news.ncsu.edu/2022/01/is-flurona-even-a-real-thing/\">\n",
      "<div class=\"feature-txt\">\n",
      "<p class=\"feature-date\">Jan 7, 2022</p>\n",
      "<h3>Is ‘Flurona’ Even a Real Thing? What’s That All About?</h3>\n",
      "<p>TL;DR: Not <span class=\"nowrap\">really.<span class=\"glyphicon glyphicon-thin-arrow\"></span></span></p>\n",
      "</div>\n",
      "</a>\n",
      "</div>\n"
     ]
    }
   ],
   "source": [
    "# soup.prettify()\n",
    "divs = soup.find_all('div', {'class':'feature-column'})\n",
    "print(divs[0])"
   ]
  },
  {
   "cell_type": "markdown",
   "metadata": {},
   "source": [
    "***\n",
    "Let's get the title of the articles and when they were featured. Headers have tags `<h#>` where # changes with the size of the header (1 largest). \n",
    "\n",
    "We can see here that the titles are in `<h3>` and `<h4>` tags and the dates appear in the paragraph tags `<p>` of class `feature-date`. \n",
    "\n",
    "So let's get the titles of the dates. \n",
    "***"
   ]
  },
  {
   "cell_type": "code",
   "execution_count": 84,
   "metadata": {},
   "outputs": [
    {
     "name": "stdout",
     "output_type": "stream",
     "text": [
      "\n",
      "\n",
      "\n",
      "Jan 7, 2022\n",
      "Is ‘Flurona’ Even a Real Thing? What’s That All About?\n",
      "TL;DR: Not really.\n",
      "\n",
      "\n",
      "\n",
      "\n",
      "\n",
      "\n",
      "Dec 15, 2021\n",
      "Sweat-Powered Wearable Sensors Land NC State Researcher on Newsweek’s Inaugural ‘Greatest Disruptors’ List\n",
      "Newsweek recognized Amay J. Bandodkar for his work on wearable battery-free sensors and skin-friendly wearable batteries. \n",
      "\n",
      "\n",
      "\n",
      "\n",
      "\n",
      "\n",
      "Dec 15, 2021\n",
      "Fitts-Woolard Hall Named North Carolina ‘Public Project of the Year’\n",
      "The project was recognized as one of top commercial developments across the state based on design, innovation and community impact.\n",
      "\n",
      "\n",
      "\n",
      "\n",
      "\n",
      "\n",
      "Jan11\n",
      "\n",
      "\n",
      "Tuesday1:15 PM\n",
      "Dean of CVM Nomination Committee Meeting\n",
      "\n",
      "\n",
      "\n",
      "\n",
      "\n",
      "\n",
      "Jan11\n",
      "\n",
      "\n",
      "Tuesday7:00 PM\n",
      "Talley Tuesday Takeover at Talley Student Union\n",
      "\n",
      "\n",
      "\n",
      "\n",
      "\n",
      "\n",
      "Jan13\n",
      "\n",
      "\n",
      "Thursday11:00 AM\n",
      "Campus Community Center Open House at Talley Student Union\n",
      "\n",
      "\n",
      "\n",
      "\n",
      "\n",
      "\n",
      "Jan14\n",
      "\n",
      "\n",
      "Friday5:00 PM\n",
      "Avery Bolden Art Exhibition: Black Girl Maverick at Witherspoon Student Center\n",
      "\n",
      "\n",
      "\n"
     ]
    }
   ],
   "source": [
    "for div in divs:\n",
    "    print(div.get_text())"
   ]
  },
  {
   "cell_type": "code",
   "execution_count": 96,
   "metadata": {},
   "outputs": [
    {
     "name": "stdout",
     "output_type": "stream",
     "text": [
      "<h3>Is ‘Flurona’ Even a Real Thing? What’s That All About?</h3>\n",
      "<h3>Sweat-Powered Wearable Sensors Land NC State Researcher on Newsweek’s Inaugural ‘Greatest Disruptors’ List</h3>\n",
      "<h3>Fitts-Woolard Hall Named North Carolina ‘Public Project of the Year’</h3>\n",
      "None\n",
      "None\n",
      "None\n",
      "None\n"
     ]
    }
   ],
   "source": [
    "for div in divs:\n",
    "    print(div.h3)"
   ]
  },
  {
   "cell_type": "markdown",
   "metadata": {},
   "source": [
    "***\n",
    "**Holy dates, Batman** \n",
    "\n",
    "Something looks different here...\n",
    "\n",
    "Some elements are actually calendar invitations. They are not articles! \n",
    "\n",
    "So, let's fix this. \n",
    "***"
   ]
  },
  {
   "cell_type": "code",
   "execution_count": 113,
   "metadata": {},
   "outputs": [
    {
     "name": "stdout",
     "output_type": "stream",
     "text": [
      "<div class=\"feature-column\">\n",
      " <a class=\"feature-block\" data-ua-action=\"News Click\" data-ua-cat=\"News Module\" data-ua-label=\"https://news.ncsu.edu/2022/01/is-flurona-even-a-real-thing/\" href=\"https://news.ncsu.edu/2022/01/is-flurona-even-a-real-thing/\">\n",
      "  <div class=\"feature-txt\">\n",
      "   <p class=\"feature-date\">\n",
      "    Jan 7, 2022\n",
      "   </p>\n",
      "   <h3>\n",
      "    Is ‘Flurona’ Even a Real Thing? What’s That All About?\n",
      "   </h3>\n",
      "   <p>\n",
      "    TL;DR: Not\n",
      "    <span class=\"nowrap\">\n",
      "     really.\n",
      "     <span class=\"glyphicon glyphicon-thin-arrow\">\n",
      "     </span>\n",
      "    </span>\n",
      "   </p>\n",
      "  </div>\n",
      " </a>\n",
      "</div>\n",
      "\n"
     ]
    },
    {
     "data": {
      "text/plain": [
       "[<div class=\"feature-txt\">\n",
       " <p class=\"feature-date\">Jan 7, 2022</p>\n",
       " <h3>Is ‘Flurona’ Even a Real Thing? What’s That All About?</h3>\n",
       " <p>TL;DR: Not <span class=\"nowrap\">really.<span class=\"glyphicon glyphicon-thin-arrow\"></span></span></p>\n",
       " </div>,\n",
       " <div class=\"feature-txt\">\n",
       " <p class=\"feature-date\">Dec 15, 2021</p>\n",
       " <h3>Sweat-Powered Wearable Sensors Land NC State Researcher on Newsweek’s Inaugural ‘Greatest Disruptors’ List</h3>\n",
       " <p>Newsweek recognized Amay J. Bandodkar for his work on wearable battery-free sensors and skin-friendly wearable <span class=\"nowrap\">batteries. <span class=\"glyphicon glyphicon-thin-arrow\"></span></span></p>\n",
       " </div>,\n",
       " <div class=\"feature-txt\">\n",
       " <p class=\"feature-date\">Dec 15, 2021</p>\n",
       " <h3>Fitts-Woolard Hall Named North Carolina ‘Public Project of the Year’</h3>\n",
       " <p>The project was recognized as one of top commercial developments across the state based on design, innovation and community <span class=\"nowrap\">impact.<span class=\"glyphicon glyphicon-thin-arrow\"></span></span></p>\n",
       " </div>,\n",
       " <div class=\"feature-txt\">\n",
       " <h3 class=\"feature-group_heading\">Visit NC State </h3>\n",
       " <p>Explore our extraordinary campus in Raleigh, North Carolina.</p>\n",
       " <p class=\"action-link\">Take a virtual <span class=\"nowrap\">tour<span class=\"glyphicon glyphicon-roman-arrow\"></span></span></p>\n",
       " </div>]"
      ]
     },
     "execution_count": 113,
     "metadata": {},
     "output_type": "execute_result"
    }
   ],
   "source": [
    "print(divs[0].prettify())\n",
    "divs2 = soup.find_all(\"div\", class_='feature-txt')\n",
    "divs2"
   ]
  },
  {
   "cell_type": "markdown",
   "metadata": {},
   "source": [
    "So this adds the NC State visit text. We don't want that. So instead, we just use logic!"
   ]
  },
  {
   "cell_type": "code",
   "execution_count": 118,
   "metadata": {},
   "outputs": [
    {
     "name": "stdout",
     "output_type": "stream",
     "text": [
      "Is ‘Flurona’ Even a Real Thing? What’s That All About? Jan 7, 2022\n",
      "Sweat-Powered Wearable Sensors Land NC State Researcher on Newsweek’s Inaugural ‘Greatest Disruptors’ List Dec 15, 2021\n",
      "Fitts-Woolard Hall Named North Carolina ‘Public Project of the Year’ Dec 15, 2021\n"
     ]
    }
   ],
   "source": [
    "for div in divs:\n",
    "    if div.h3 != None:\n",
    "        print(div.h3.get_text(), div.p.get_text())"
   ]
  }
 ],
 "metadata": {
  "kernelspec": {
   "display_name": "DSC495",
   "language": "python",
   "name": "dsc495"
  },
  "language_info": {
   "codemirror_mode": {
    "name": "ipython",
    "version": 3
   },
   "file_extension": ".py",
   "mimetype": "text/x-python",
   "name": "python",
   "nbconvert_exporter": "python",
   "pygments_lexer": "ipython3",
   "version": "3.10.1"
  }
 },
 "nbformat": 4,
 "nbformat_minor": 4
}
