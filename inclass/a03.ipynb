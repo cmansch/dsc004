{
 "cells": [
  {
   "cell_type": "markdown",
   "metadata": {},
   "source": [
    "## In class activity \n",
    "\n",
    "The goal of this activity is to implement and understand GET requests and status codes. \n",
    "\n",
    "We will look at how some different errors can be found through a series of examples. \n",
    "\n",
    "Documentation on [urllib.request](https://docs.python.org/3/library/urllib.request.html) and [Request objects](https://docs.python.org/3/library/urllib.request.html#urllib.request.Request).\n"
   ]
  },
  {
   "cell_type": "code",
   "execution_count": 1,
   "metadata": {},
   "outputs": [
    {
     "name": "stdout",
     "output_type": "stream",
     "text": [
      "3.10\n"
     ]
    }
   ],
   "source": [
    "import urllib.request\n",
    "from urllib.request import urlopen, HTTPError, URLError, Request\n",
    "print(urllib.request.__version__)"
   ]
  },
  {
   "cell_type": "markdown",
   "metadata": {},
   "source": [
    "Start by choosing a website that you are interested in looking at. Verify that the homepage may be requested by looking at the `robots.txt` file. Then save the url path of the homepage to the variable `my_url`. If you have no site you are interested in, try google's homepage. \n",
    "\n",
    "Save the result as response. \n",
    "\n",
    "In order to check if the response was valid, we can use the `.getcode()` method. Try it and verify your response is `200`. "
   ]
  },
  {
   "cell_type": "code",
   "execution_count": 2,
   "metadata": {},
   "outputs": [],
   "source": [
    "my_url = \"\"\n",
    "if my_url != \"\":\n",
    "    response = urlopen(my_url)\n",
    "    response.getcode()"
   ]
  },
  {
   "cell_type": "markdown",
   "metadata": {},
   "source": [
    "***\n",
    "This is great when we have webpages that we know will work. But, try getting the response from `https://www.google.com/teapot`\n",
    "***"
   ]
  },
  {
   "cell_type": "code",
   "execution_count": 3,
   "metadata": {},
   "outputs": [],
   "source": [
    "teapots = \"https://www.google.com/teapot\""
   ]
  },
  {
   "cell_type": "markdown",
   "metadata": {},
   "source": [
    "***\n",
    "Pause here. What happened?\n",
    "***\n",
    "\n",
    "How do we handle errors from stopping our code? We can use `try-except` clauses."
   ]
  },
  {
   "cell_type": "code",
   "execution_count": 4,
   "metadata": {},
   "outputs": [],
   "source": [
    "try:\n",
    "    # what you want to do\n",
    "    pass\n",
    "except HTTPError as e:\n",
    "    # what to do if things go awry\n",
    "    pass\n",
    "else:\n",
    "    # what to do if things are good\n",
    "    pass\n"
   ]
  },
  {
   "cell_type": "markdown",
   "metadata": {},
   "source": [
    "Using this same format, find out why applebees doesn't want us to see their menu. "
   ]
  },
  {
   "cell_type": "code",
   "execution_count": 5,
   "metadata": {},
   "outputs": [],
   "source": [
    "applebees  = \"https://www.applebees.com/en/menu/2-for-222629\"\n",
    "try:\n",
    "    # what you want to do\n",
    "    pass\n",
    "except HTTPError as e:\n",
    "    # what to do if things go awry\n",
    "    pass\n",
    "else:\n",
    "    # what to do if things are good\n",
    "    pass"
   ]
  },
  {
   "cell_type": "markdown",
   "metadata": {},
   "source": [
    "*** \n",
    "Well, 2 for $22 is not looking good right now. \n",
    "\n",
    "The reason, Applebees does not like that we are using python to access their webpage. \n",
    "\n",
    "But, we must have the 2 for $22, or at minimum the _New Sizzlin' Butter Pecan Blondie_!\n",
    "\n",
    "We need more control over what is being sent with our `GET` request. So we will make use of `Request`. \n",
    "\n",
    "The basic syntax follows as below using the wonderful domain [http.cat](https://http.cat/)"
   ]
  },
  {
   "cell_type": "code",
   "execution_count": 6,
   "metadata": {},
   "outputs": [
    {
     "data": {
      "text/plain": [
       "200"
      ]
     },
     "execution_count": 6,
     "metadata": {},
     "output_type": "execute_result"
    }
   ],
   "source": [
    "req = Request(url=\"https://http.cat/403\", method='GET')\n",
    "response = urlopen(req)\n",
    "response.getcode()"
   ]
  },
  {
   "cell_type": "markdown",
   "metadata": {},
   "source": [
    "With this new format, we can pass parameters in a header similar to what our browser might do. \n",
    "\n",
    "To see these in your browser, use Inspect > Network > A response 200 request > Request Headers\n",
    "\n",
    "Fill in the header below using information from your browser and see how Applebees responds. "
   ]
  },
  {
   "cell_type": "code",
   "execution_count": 7,
   "metadata": {},
   "outputs": [],
   "source": [
    "headers = {'User-Agent': \"Bond\",\n",
    "        'Accept': \"\",\n",
    "        'Accept-Charset': \"\",\n",
    "        'Accept-Encoding': 'none',\n",
    "        'Accept-Language': \"\",\n",
    "        'Connection': 'keep-alive'}\n",
    "\n",
    "req = Request(\n",
    "    applebees, \n",
    "    data=None, \n",
    "    headers=headers\n",
    ")\n",
    "\n",
    "if headers['User-Agent'] != \"Bond\":\n",
    "    f = urlopen(req)\n",
    "    f.getcode()\n",
    "# print(f.read().decode('utf-8'))"
   ]
  }
 ],
 "metadata": {
  "kernelspec": {
   "display_name": "DSC495",
   "language": "python",
   "name": "dsc495"
  },
  "language_info": {
   "codemirror_mode": {
    "name": "ipython",
    "version": 3
   },
   "file_extension": ".py",
   "mimetype": "text/x-python",
   "name": "python",
   "nbconvert_exporter": "python",
   "pygments_lexer": "ipython3",
   "version": "3.10.1"
  }
 },
 "nbformat": 4,
 "nbformat_minor": 4
}
