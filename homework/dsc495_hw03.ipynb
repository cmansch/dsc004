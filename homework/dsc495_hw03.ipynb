{
 "cells": [
  {
   "cell_type": "markdown",
   "metadata": {},
   "source": [
    "# Assignment \\#03\n",
    "\n",
    "## Loops, Conditionals, and Family\n",
    "\n",
    "**Outcomes**\n",
    "1. Review construction of for loops\n",
    "1. Review conditional statements\n",
    "1. Explore an HTML tree\n",
    "\n",
    "**Required Sections**\n",
    "\n",
    "\n"
   ]
  },
  {
   "cell_type": "code",
   "execution_count": null,
   "metadata": {},
   "outputs": [],
   "source": [
    "import numpy as np"
   ]
  },
  {
   "cell_type": "markdown",
   "metadata": {},
   "source": [
    "***\n",
    "\n",
    "We will begin with a further review of for loops. For loops have the basic structure \n",
    "\n",
    "for iterator in iterable:\n",
    "    BLOCK1\n",
    "BLOCK2\n",
    "\n",
    "Iterator takes on the different levels of the iterable. The value of iterator will change with each loop. This allows us to execute similar code (BLOCK1) multiple times over different values. \n",
    "\n",
    "When we have code after the indentation (BLOCK2) this will return to executing after the last loop. \n",
    "\n",
    "Say we want to find the square (power 2) of each number in a list. The below example will exectue this. "
   ]
  },
  {
   "cell_type": "code",
   "execution_count": null,
   "metadata": {},
   "outputs": [],
   "source": [
    "for x in [1,2,3]:\n",
    "    print(x**2)"
   ]
  },
  {
   "cell_type": "markdown",
   "metadata": {},
   "source": [
    "***\n",
    "### Q1. Write a for loop that will print the cube (power 3) of each value in the list [1,2,3,4]."
   ]
  },
  {
   "cell_type": "code",
   "execution_count": null,
   "metadata": {},
   "outputs": [],
   "source": []
  },
  {
   "cell_type": "markdown",
   "metadata": {},
   "source": [
    "***\n",
    "\n",
    "We may also use loops to update or keep track of certain values. For instance, the Fibonacci begins with $1, 1$ and follows where the $n^th$ number is the sequence is the sum of the previous numbers $n-1$ and $n-2$. \n",
    "\n",
    "So, the series begins $1,1,2,3,5,8,13,...$. \n",
    "\n",
    "We can use variables from outside the loop and update them during the loop in order to find new values. \n",
    "\n",
    "Here we initialize three values. We can use them to find the series. `n` is the current value of the series. `nm1` is the previous term, `nm2` is two terms prior. \n",
    "So, each loop, we print the iterator $i$ to see how the values change. We find the term `n` by summing the previous terms `nm1` and `nm2`. Then we update those. \n",
    "\n",
    "The function `np.arange(l)` creates an iterable object of length `l`. \n",
    "\n",
    "Two code chunks are provided. Try adding print statements to the second to see how the values change each loop. Keep one chunk unchanged in case something goes awry. \n"
   ]
  },
  {
   "cell_type": "code",
   "execution_count": null,
   "metadata": {},
   "outputs": [],
   "source": [
    "n = 1\n",
    "nm1 = 1\n",
    "nm2 = 0\n",
    "for i in np.arange(5):\n",
    "    # print the value of the series\n",
    "    print(\"The\", i+1, \"term is \", n)\n",
    "    n = nm1 + nm2\n",
    "    nm2 = nm1\n",
    "    nm1 = n\n",
    "    "
   ]
  },
  {
   "cell_type": "code",
   "execution_count": null,
   "metadata": {},
   "outputs": [],
   "source": [
    "n = 1\n",
    "nm1 = 1\n",
    "nm2 = 0\n",
    "for i in np.arange(5):\n",
    "    # print the value of the series\n",
    "    print(\"The\", i+1, \"term is \", n)\n",
    "    n = nm1 + nm2\n",
    "    nm2 = nm1\n",
    "    nm1 = n\n",
    "    "
   ]
  },
  {
   "cell_type": "markdown",
   "metadata": {},
   "source": [
    "***\n",
    "The golden ratio appears in a number of natural phenomena. This ratio is defined algebraically as any two positive numbers $a>b$ such that $\\frac{a+b}{a} = \\frac{a}{b}$. \n",
    "\n",
    "In order to estimate the ratio, we can apply a recursive algorithm. This means we apply the same operation over and over again. \n",
    "\n",
    "Given an initial estimate $a$, we can get a new estimate of the golden ratio as $1 + \\frac{1}{a}$. \n",
    "\n",
    "### Q2. Write a for loop that updates and prints updates of our initial estimate 5 times. "
   ]
  },
  {
   "cell_type": "code",
   "execution_count": null,
   "metadata": {},
   "outputs": [],
   "source": []
  },
  {
   "cell_type": "markdown",
   "metadata": {},
   "source": [
    "***\n",
    "***\n",
    "\n",
    "Now we consider a short review of conditional statements. \n",
    "\n",
    "Conditional statements control the flow of code. Python focuses on `if`, `elif`, and `else` statements. \n",
    "\n",
    "The code following statements only evaluates if the expression in the `if` portion is True. The general form is given below. \n",
    "\n",
    "`\n",
    "if cond1:\n",
    "    block1\n",
    "elif cond2:\n",
    "    block2\n",
    "elif cond3:\n",
    "    block3\n",
    "else:\n",
    "    block4`\n",
    "\n",
    "Python will work through these statements in sequence. If the first condition is true, block1 will evaluate and the rest will be skipped. If the first condition is false, the subsequent conditions will be evaluated until a true one is found. Once a true statement is found, the respective block will be executed. \n",
    "If none of the conditions are true, then block under the else statement will run. \n",
    "\n",
    "### Q3: Change all ellipses in the next code block to either `True` or `False` so that the statement `if 1` prints.  "
   ]
  },
  {
   "cell_type": "code",
   "execution_count": null,
   "metadata": {},
   "outputs": [],
   "source": [
    "if ...:\n",
    "    print(\"if 1\")\n",
    "elif ...:\n",
    "    print(\"elif 1\")\n",
    "elif ...:\n",
    "    print(\"elif 2\")\n",
    "elif ...:\n",
    "    print(\"elif 3\")\n",
    "else:\n",
    "    print(\"else\")"
   ]
  },
  {
   "cell_type": "markdown",
   "metadata": {},
   "source": [
    "### Q4: Change all ellipses in the next code block to either `True` or `False` so that the statement `elif 1` prints.  "
   ]
  },
  {
   "cell_type": "code",
   "execution_count": null,
   "metadata": {},
   "outputs": [],
   "source": [
    "if ...:\n",
    "    print(\"if 1\")\n",
    "elif ...:\n",
    "    print(\"elif 1\")\n",
    "elif ...:\n",
    "    print(\"elif 2\")\n",
    "elif ...:\n",
    "    print(\"elif 3\")\n",
    "else:\n",
    "    print(\"else\")"
   ]
  },
  {
   "cell_type": "markdown",
   "metadata": {},
   "source": [
    "### Q5: Change all ellipses in the next code block to either `True` or `False` so that the statement `elif 2` prints.  "
   ]
  },
  {
   "cell_type": "code",
   "execution_count": null,
   "metadata": {},
   "outputs": [],
   "source": [
    "if ...:\n",
    "    print(\"if 1\")\n",
    "elif ...:\n",
    "    print(\"elif 1\")\n",
    "elif ...:\n",
    "    print(\"elif 2\")\n",
    "elif ...:\n",
    "    print(\"elif 3\")\n",
    "else:\n",
    "    print(\"else\")"
   ]
  },
  {
   "cell_type": "markdown",
   "metadata": {},
   "source": [
    "### Q6: Change all ellipses in the next code block to either `True` or `False` so that the statement `elif 3` prints.  "
   ]
  },
  {
   "cell_type": "code",
   "execution_count": null,
   "metadata": {},
   "outputs": [],
   "source": [
    "if ...:\n",
    "    print(\"if 1\")\n",
    "elif ...:\n",
    "    print(\"elif 1\")\n",
    "elif ...:\n",
    "    print(\"elif 2\")\n",
    "elif ...:\n",
    "    print(\"elif 3\")\n",
    "else:\n",
    "    print(\"else\")"
   ]
  },
  {
   "cell_type": "markdown",
   "metadata": {},
   "source": [
    "### Q7: Change all ellipses in the next code block to either `True` or `False` so that the statement `else` prints.  "
   ]
  },
  {
   "cell_type": "code",
   "execution_count": null,
   "metadata": {},
   "outputs": [],
   "source": [
    "if ...:\n",
    "    print(\"if 1\")\n",
    "elif ...:\n",
    "    print(\"elif 1\")\n",
    "elif ...:\n",
    "    print(\"elif 2\")\n",
    "elif ...:\n",
    "    print(\"elif 3\")\n",
    "else:\n",
    "    print(\"else\")"
   ]
  },
  {
   "cell_type": "markdown",
   "metadata": {},
   "source": [
    "***\n",
    "***\n",
    "## Explore an HTML tree\n",
    "\n"
   ]
  },
  {
   "cell_type": "code",
   "execution_count": 10,
   "metadata": {},
   "outputs": [],
   "source": [
    "from urllib.request import urlopen\n",
    "from bs4 import BeautifulSoup, NavigableString, Tag\n",
    "\n",
    "url = \"https://pythonscraping.com/pages/page3.html\"\n",
    "html = urlopen(url)\n",
    "bs = BeautifulSoup(html, 'html.parser')"
   ]
  },
  {
   "cell_type": "markdown",
   "metadata": {},
   "source": [
    "***\n",
    "\n",
    "We talked in class about exploring the children of trees. Now we will discuss navigating across siblings and parents. \n",
    "\n",
    "### Q8: Begin by creating a new variable `table` that takes the value of the Tag `table` which is the child of div, child of body.  \n",
    "\n",
    "Hint: You may use the `bs.tag.tag.tag...` syntax. "
   ]
  },
  {
   "cell_type": "code",
   "execution_count": null,
   "metadata": {},
   "outputs": [],
   "source": []
  },
  {
   "cell_type": "markdown",
   "metadata": {},
   "source": [
    "In class, we talked about how to loop over the children of tag. Try doing this now. \n",
    "\n",
    "### Q9: Using a for loop, print the `name` of all the children of table. \n",
    "\n",
    "Hint: they should alternate between two value. \n",
    "\n"
   ]
  },
  {
   "cell_type": "code",
   "execution_count": null,
   "metadata": {},
   "outputs": [],
   "source": []
  },
  {
   "cell_type": "markdown",
   "metadata": {},
   "source": [
    "***\n",
    "\n",
    "We may want to be able to go back up the tree, rather than down. Similar to how `.children` will return all the children of a tag, `.parent` will give us the tag that occurs above. \n",
    "\n",
    "### Q10: Try using `.parent` to print the tag that includes the table. "
   ]
  },
  {
   "cell_type": "code",
   "execution_count": null,
   "metadata": {},
   "outputs": [],
   "source": []
  },
  {
   "cell_type": "markdown",
   "metadata": {},
   "source": [
    "Finally, We can also move horizontally through the siblings at the same level of the HTML tree. \n",
    "\n",
    "Beautiful Soup offers us four methods to do such:\n",
    "\n",
    "| Syntax      | Description |\n",
    "| ----------- | ----------- |\n",
    "| .next_sibling      | Returns immediately following sibling       |\n",
    "| .previous_sibling   | Returns immediately preceeding sibling        |\n",
    "| .next_siblings      | Returns an iterable object of all following siblings       |\n",
    "| .previous_siblings   | Returns an iterable object of all preceeding siblings        |\n",
    "\n",
    "Try using these methods on `table.tr`. We can also stack these\n",
    "\n",
    "### Q11: Try all four methods on `table.tr` in the box below. What differs from their output. "
   ]
  },
  {
   "cell_type": "code",
   "execution_count": null,
   "metadata": {},
   "outputs": [],
   "source": []
  },
  {
   "cell_type": "markdown",
   "metadata": {},
   "source": [
    "**Answer:**"
   ]
  },
  {
   "cell_type": "markdown",
   "metadata": {},
   "source": [
    " We can also stack these calls (e.g. `table.next_sibling.next_sibling`) in a single line of code to jump multiple siblings. \n",
    " \n",
    " ### Q11: How many times must you add `.next_sibling` to `table.tr` to get the gift `Russian Nesting Dolls`? Put the code and your written answer in the subsequent boxes. "
   ]
  },
  {
   "cell_type": "code",
   "execution_count": null,
   "metadata": {},
   "outputs": [],
   "source": []
  },
  {
   "cell_type": "markdown",
   "metadata": {},
   "source": [
    "**Answer:**"
   ]
  }
 ],
 "metadata": {
  "kernelspec": {
   "display_name": "DSC495",
   "language": "python",
   "name": "dsc495"
  },
  "language_info": {
   "codemirror_mode": {
    "name": "ipython",
    "version": 3
   },
   "file_extension": ".py",
   "mimetype": "text/x-python",
   "name": "python",
   "nbconvert_exporter": "python",
   "pygments_lexer": "ipython3",
   "version": "3.10.1"
  }
 },
 "nbformat": 4,
 "nbformat_minor": 4
}
