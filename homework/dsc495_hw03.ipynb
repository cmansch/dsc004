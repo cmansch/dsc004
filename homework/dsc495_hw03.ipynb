{
 "cells": [
  {
   "cell_type": "markdown",
   "metadata": {},
   "source": [
    "# Assignment \\#03\n",
    "\n",
    "## Formatting from J!Archive\n",
    "\n",
    "**Outcomes**\n",
    "1. Scrape structured data  \n",
    "1. Begin getting data into a useable format\n",
    "\n",
    "**Scenario:** You have recently been accepted to appear on the gameshow Jeopardy! In order to do such, you decide to review old games. In doing such, you realize that you are able to find a wealth of information on the website [J! Archive](https://j-archive.com/). \n",
    "\n",
    "Complete Section 0, either section 1 or section 2, and section 3. \n",
    "\n",
    "So either do (0, 1, 3) or (0, 2, 3). \n",
    "\n",
    "(0, 1, 2, 3) is also acceptable, though not required. \n",
    "\n",
    "0. Section 0: Navigating the Body\n",
    "1. Section 1: Getting metadata from the head\n",
    "1. Section 2: Using regular expressions to find clues\n",
    "1. Section 3: Finding links out of the webpage"
   ]
  },
  {
   "cell_type": "code",
   "execution_count": 1,
   "metadata": {},
   "outputs": [],
   "source": [
    "from urllib.request import urlopen\n",
    "import time\n",
    "from bs4 import BeautifulSoup, NavigableString, Tag\n",
    "import pandas as pd\n",
    "import re"
   ]
  },
  {
   "cell_type": "markdown",
   "metadata": {},
   "source": [
    "## Section 0: Navigating the Body"
   ]
  },
  {
   "cell_type": "markdown",
   "metadata": {},
   "source": [
    "***\n",
    "We will use the same page as the last homework. The below code is given as part of the solution from Homework 2. "
   ]
  },
  {
   "cell_type": "code",
   "execution_count": 2,
   "metadata": {},
   "outputs": [],
   "source": [
    "url = \"https://www.j-archive.com/showgame.php?game_id=6293\"\n",
    "sleep_time = 20\n",
    "if type(sleep_time) == int:\n",
    "    html = urlopen(url)\n",
    "    time.sleep(sleep_time)\n",
    "bs = BeautifulSoup(html, 'html.parser')"
   ]
  },
  {
   "cell_type": "markdown",
   "metadata": {},
   "source": [
    "***\n",
    "We are now going to navigate through the soup to try and find more about its contents without exploring the webpage. Using the `isinstance` function helps to determine if a Tag or a terminal node has been reached. This will help us throughout the assignment. It also allows us to determine how to proceed as we explore the tree. \n",
    "\n",
    "### Q1: Loop over the children of `bs` to find how many children it has. If a child is a `Tag`, get its name. "
   ]
  },
  {
   "cell_type": "code",
   "execution_count": null,
   "metadata": {},
   "outputs": [],
   "source": []
  },
  {
   "cell_type": "markdown",
   "metadata": {},
   "source": [
    "__Answer:__\n",
    "\n",
    "There are _ children. The name of the tag(s) are _. \n"
   ]
  },
  {
   "cell_type": "markdown",
   "metadata": {},
   "source": [
    "***\n",
    "Notice that we have not yet found the head or body of the text. Extend the code from Q1 to look if any of the children of `Tag` objects have the name `head` or `body`.  \n",
    "\n",
    "### Q2: Modify the code from Q1 to determine if the any of the `Tag` object children have the name `head` or `body`. Your code should print the additional tag references needed to directly access the head and body. \n",
    "\n",
    "e.g. if `head` is located at bs.sometag1.head, you should print `sometag1.head`. "
   ]
  },
  {
   "cell_type": "code",
   "execution_count": null,
   "metadata": {},
   "outputs": [],
   "source": []
  },
  {
   "cell_type": "markdown",
   "metadata": {},
   "source": [
    "Now that we have the location of the head and body, we may continue. \n",
    "\n",
    "Alternatively, BeautifulSoup does a decent job of navigating tags when they are nested. For instance, bs.head can skip the reference to the middle layer. "
   ]
  },
  {
   "cell_type": "markdown",
   "metadata": {},
   "source": [
    "***\n",
    "***\n",
    "## Section 1: Getting metadata from the head\n",
    "\n",
    "Our goal is to take the information from the head and store it in a dictionary that describes the content. Notice that we only want the `Tag` elements from the head. \n",
    "\n",
    "In order to do this, we will start with the first object. \n",
    "\n",
    "### Q1: Look at the `contents` of the `head` tag. What is the first non-\"\\n\" element? "
   ]
  },
  {
   "cell_type": "code",
   "execution_count": null,
   "metadata": {},
   "outputs": [],
   "source": []
  },
  {
   "cell_type": "markdown",
   "metadata": {},
   "source": [
    "Answer: title"
   ]
  },
  {
   "cell_type": "markdown",
   "metadata": {},
   "source": [
    "***\n",
    "We can begin at this item, and move through the rest using `.next_sibling` while skipping over the '\\n' with an `if` statement. \n",
    "\n",
    "### Q2: Start a dictionary, `metadata`, whose first key is the `name` of the first non-\"\\n\" `Tag` and takes the value of its `contents`. "
   ]
  },
  {
   "cell_type": "code",
   "execution_count": null,
   "metadata": {},
   "outputs": [],
   "source": []
  },
  {
   "cell_type": "markdown",
   "metadata": {},
   "source": [
    "***\n",
    "### Q3: Iterate through the siblings following the first non-\"\\n\" element. If the element is \"\\n\", skip it. If the element is not \"\\n\", then print its name and contents. \n",
    "\n",
    "Hint: Use a for loop over the siblings. You should notice a pattern here. "
   ]
  },
  {
   "cell_type": "code",
   "execution_count": null,
   "metadata": {},
   "outputs": [],
   "source": []
  },
  {
   "cell_type": "markdown",
   "metadata": {},
   "source": [
    "***\n",
    "\n",
    "The `.name` method only prints the name of the tag. Here, we will want to handle what we add to the dictionary based on the tag. This will involve more logic statements. \n",
    "\n",
    "Links may add a reference to a style sheet or a favorite icon (used by the browser). The attribute `rel` defines the relationship between the link and the current webpage, whereas `href` defines the link itself. In our case, we will want to use `rel` as the key and `href` as the value for our dictionary. \n",
    "\n",
    "Meta tags offer information about the webpage. We will want to use the `name` as the key, and `content` as the value for our dictionary. \n",
    "\n",
    "### Q4: Following the example of A04, when we find the link to the images, print the correct key-value depending on the type of tag. For the siblings. \n"
   ]
  },
  {
   "cell_type": "code",
   "execution_count": null,
   "metadata": {},
   "outputs": [],
   "source": []
  },
  {
   "cell_type": "markdown",
   "metadata": {},
   "source": [
    "***\n",
    "\n",
    "To add new items to a dictionary named `my_dict`, we can use `my_dict.update({'key':'value'})`. Remember that keys cannot be lists. \n",
    "\n",
    "### Q5: Modify your code from Q4 to update the dictionary with these pairs. "
   ]
  },
  {
   "cell_type": "code",
   "execution_count": null,
   "metadata": {},
   "outputs": [],
   "source": []
  },
  {
   "cell_type": "markdown",
   "metadata": {},
   "source": [
    "***\n",
    "***\n",
    "## Section 2: Using regular expressions to find clues. \n",
    "\n",
    "When scraping data, we likely want to acknowledge the structure that may already exist. The `.find_all()` method, while useful, may return a myraid of results. To be more precise in our searches, we can use regular expressions (regex) to specify with a degree of tolerance what we want. \n",
    "\n",
    "For example, I may want to get all tags that have a class containing the word `clue`. This could include classes such as `clueless`, `clue95`, `clue`, etc. The regular expression for such would be `clue\\+`. The plus signifies that I am okay with anything trailing the word `clue`, but `clue` must be matched at least once.  \n",
    "\n",
    "To find all clues from the Jeopardy round `id` with `clue_J`, we could use `bs.body.find_all('td', {'id':re.compile('clue_J+')})`. \n",
    "\n",
    "### Q1: Try running this expression. What ids are returned? Should we modify the code? "
   ]
  },
  {
   "cell_type": "code",
   "execution_count": null,
   "metadata": {},
   "outputs": [],
   "source": []
  },
  {
   "cell_type": "markdown",
   "metadata": {},
   "source": [
    "**Answer:**"
   ]
  },
  {
   "cell_type": "markdown",
   "metadata": {},
   "source": [
    "***\n",
    "A hint for the previous question, you should modify the code. \n",
    "\n",
    "### Q2: Modify the code to only tags with the questions. This should be done in 1 line of code. "
   ]
  },
  {
   "cell_type": "code",
   "execution_count": null,
   "metadata": {},
   "outputs": [],
   "source": []
  },
  {
   "cell_type": "markdown",
   "metadata": {},
   "source": [
    "***\n",
    "\n",
    "Regular expressions work well for finding well-defined attributes and text with a little bit of forgiveness. \n",
    "\n",
    "This has allowed us to find the questions, but what if we want to find the `response` contestants give as well. If we try searching for any tag with synonyms of `response`, we find there are no expressions. This is due to the way the responses are stored. \n",
    "\n",
    "To convince you of this, note that multiple regular expressions can be combine using the pipe delimiter `|`. So to expression mutliple constraints, I could use `re.compile(a+|b+)` which will return expressions that include at least 1 a or b. \n",
    "\n",
    "To search all tags, we replace `td` with True. \n",
    "\n",
    "### Q3: Use a regular expression within a find_all statement to search all tags for anything that may contain a class with response or answer. "
   ]
  },
  {
   "cell_type": "code",
   "execution_count": null,
   "metadata": {},
   "outputs": [],
   "source": []
  },
  {
   "cell_type": "markdown",
   "metadata": {},
   "source": [
    "***\n",
    "\n",
    "To find the answers we seek, we will have to use a `lambda` expression. They are similar to mini functions and we will consider them in later assignments with functions.\n",
    "\n",
    "We will use a series of functions and regex expressions to determine how to get the answers. This problem is generally seens as being more challenging and can also be handled via selenium. \n",
    "\n",
    "Any example of trying to find the answers using functions and multiple regex expressions is shown here for those interested:\n",
    "\n",
    "> bs.body(True, {'class':re.compile(\"round+\")})[0].find_all(lambda tag: bool(re.search(\"correct_+\", str(tag))) & (isinstance(tag, Tag)))"
   ]
  },
  {
   "cell_type": "markdown",
   "metadata": {},
   "source": [
    "***\n",
    "\n",
    "Using regex expressions, we can however get the containers once we know they are `div` with attribute `onmouseover`. \n",
    "\n",
    "To accept any contents, we can use `r\".*\"` in our regex, which allows for any values. \n",
    "\n",
    "### Q4: Use a regular expression to get all the `div` tags that contain a correct answer. Save this list as `answers_within`. "
   ]
  },
  {
   "cell_type": "code",
   "execution_count": null,
   "metadata": {},
   "outputs": [],
   "source": []
  },
  {
   "cell_type": "markdown",
   "metadata": {},
   "source": [
    "***\n",
    "\n",
    "The questions are stored in the  contents of `onmouseout` where as the answers are stored in `onmouseover`. Recall from HW2 that we can get the contents of an attribute using `.get(attr)`. \n",
    "\n",
    "### Q5: Using a loop, print the questions stored in the `onmouseout` attribute. \n",
    "\n",
    "You will need to format these correctly in a systematic way that removes the toggle and clue portions. Note that using the string method `.split` will not work on a comma, but there are other strings you can split on. "
   ]
  },
  {
   "cell_type": "code",
   "execution_count": null,
   "metadata": {},
   "outputs": [],
   "source": []
  },
  {
   "cell_type": "markdown",
   "metadata": {},
   "source": [
    "***\n",
    "\n",
    "### Q6: Using a loop, print the answers stored in the `onmouseover` attribute. \n",
    "\n",
    "Hint: This is similar to homework 2. "
   ]
  },
  {
   "cell_type": "code",
   "execution_count": null,
   "metadata": {},
   "outputs": [],
   "source": []
  },
  {
   "cell_type": "markdown",
   "metadata": {},
   "source": [
    "***\n",
    "***\n",
    "\n",
    "## Section 3: Finding links out of webpages. \n",
    "\n",
    "When building web crawlers, we may want to move through a series of webpages to map a site and the way they link together. These networks require being able to find links. The easiest way to find a link is using the `href` attribute. \n",
    "\n",
    "To find any tag with an `href`, we can make use of two statements. The first a search all tags statement `.find_all(True)`. The second is using the argument `{href: re.compile(\".*\")` which tells python to find all tags that have any `href`. \n",
    "\n",
    "### Q1: Combine these statements in 1 line to get all references below. What is interesting about the hyperlinks?"
   ]
  },
  {
   "cell_type": "code",
   "execution_count": null,
   "metadata": {},
   "outputs": [],
   "source": []
  },
  {
   "cell_type": "markdown",
   "metadata": {},
   "source": [
    "Some hyper links do not begin with http"
   ]
  },
  {
   "cell_type": "markdown",
   "metadata": {},
   "source": [
    "***\n",
    "\n",
    "Now, we may want to get some information about these hyper links. You may notice that some have titles, others do not. Link tags typically have a `rel` attribute that offers us more information about it. \n",
    "\n",
    "If the tag name is `a`, these tags typically have text associated with them or a title. In this case, we would prioritize getting the title over the text. If we were amassing data, we may want to include both systematically. \n",
    "\n",
    "### Q2: Write a loop that prints the value of `rel` for link tags, or the `title` for a tags. If the title is not there, then print the text. "
   ]
  },
  {
   "cell_type": "code",
   "execution_count": null,
   "metadata": {},
   "outputs": [],
   "source": []
  }
 ],
 "metadata": {
  "kernelspec": {
   "display_name": "DSC495",
   "language": "python",
   "name": "dsc495"
  },
  "language_info": {
   "codemirror_mode": {
    "name": "ipython",
    "version": 3
   },
   "file_extension": ".py",
   "mimetype": "text/x-python",
   "name": "python",
   "nbconvert_exporter": "python",
   "pygments_lexer": "ipython3",
   "version": "3.10.1"
  }
 },
 "nbformat": 4,
 "nbformat_minor": 4
}
