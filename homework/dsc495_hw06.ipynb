{
 "cells": [
  {
   "cell_type": "markdown",
   "metadata": {},
   "source": [
    "# Assignment \\#06\n",
    "\n",
    "## Generating an Artist Discography\n",
    "\n",
    "**Outcomes**\n",
    "1. Create a list of web pages to navigate\n",
    "2. Save data from across multiple similar pages\n"
   ]
  },
  {
   "cell_type": "code",
   "execution_count": 1,
   "metadata": {},
   "outputs": [],
   "source": [
    "## starter code from Week 10\n",
    "# discography part 2\n",
    "from urllib.request import urlopen\n",
    "from bs4 import BeautifulSoup, NavigableString, Tag\n",
    "import pandas as pd\n",
    "import regex as re\n",
    "import time\n",
    "from tqdm import tqdm"
   ]
  },
  {
   "cell_type": "markdown",
   "metadata": {},
   "source": [
    "Sample code from in-class activity. "
   ]
  },
  {
   "cell_type": "code",
   "execution_count": null,
   "metadata": {},
   "outputs": [],
   "source": [
    "url = \"\"\n",
    "html = urlopen(url)\n",
    "bs = BeautifulSoup(html, 'html.parser')"
   ]
  },
  {
   "cell_type": "code",
   "execution_count": null,
   "metadata": {},
   "outputs": [],
   "source": [
    "href_list = bs.find_all(True, {\"href\":re.compile(\"^(/wiki/)((?!:).)*$\")})"
   ]
  },
  {
   "cell_type": "code",
   "execution_count": null,
   "metadata": {},
   "outputs": [],
   "source": [
    "def get_title(bs):\n",
    "    return bs.find('h1').text\n",
    "get_title(bs)\n",
    "\n",
    "titles = []\n",
    "for site in tqdm(href_list[0:2]):\n",
    "    if 'href' in site.attrs:\n",
    "        # print(site.attrs['href'])\n",
    "        html = urlopen(\"https://en.wikipedia.org{}\".format(site.attrs['href']))\n",
    "        bs = BeautifulSoup(html, 'html.parser')\n",
    "        titles.append(get_title(bs))\n",
    "    time.sleep(2)\n",
    "print(titles)"
   ]
  },
  {
   "cell_type": "markdown",
   "metadata": {},
   "source": [
    "## Q0: Using the starter code, find all internal wikipedia links from the discography page to the individual albums. Store them in an iterable object (e.g. a list). "
   ]
  },
  {
   "cell_type": "code",
   "execution_count": null,
   "metadata": {},
   "outputs": [],
   "source": []
  },
  {
   "cell_type": "markdown",
   "metadata": {},
   "source": [
    "## Q1: Create a function from your previous homework that when given a beautifulSoup object returns a dataframe of the track information. "
   ]
  },
  {
   "cell_type": "code",
   "execution_count": null,
   "metadata": {},
   "outputs": [],
   "source": []
  },
  {
   "cell_type": "markdown",
   "metadata": {},
   "source": [
    "## Q2: Combine Q0 and Q1 to crawl over the webpages and save the track dataframes in a dictionary with the album name as the key, and track list data frame as the value. "
   ]
  },
  {
   "cell_type": "code",
   "execution_count": null,
   "metadata": {},
   "outputs": [],
   "source": []
  }
 ],
 "metadata": {
  "kernelspec": {
   "display_name": "DSC495",
   "language": "python",
   "name": "dsc495"
  },
  "language_info": {
   "codemirror_mode": {
    "name": "ipython",
    "version": 3
   },
   "file_extension": ".py",
   "mimetype": "text/x-python",
   "name": "python",
   "nbconvert_exporter": "python",
   "pygments_lexer": "ipython3",
   "version": "3.10.1"
  }
 },
 "nbformat": 4,
 "nbformat_minor": 4
}
