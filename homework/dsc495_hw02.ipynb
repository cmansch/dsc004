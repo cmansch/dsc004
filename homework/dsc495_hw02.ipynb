{
 "cells": [
  {
   "cell_type": "markdown",
   "metadata": {},
   "source": [
    "# Assignment \\#02\n",
    "\n",
    "## Getting started with web scraping\n",
    "\n",
    "**Outcomes**\n",
    "1. Scrape a webpage using GET requests\n",
    "1. Interact through a browser with the source code\n",
    "\n",
    "**Scenario:** You have recently been accepted to appear on the gameshow Jeopardy! In order to do such, you decide to review old games. In doing such, you realize that you are able to find a wealth of information on the website [J! Archive](https://j-archive.com/). \n",
    "\n",
    "Everyone need complete section 0. \n",
    "\n",
    "0. Scrape the page.\n",
    " \n",
    "Then complete one of the following:\n",
    "1. Get tags using find.all().\n",
    "1. Get result from dynamic tags. "
   ]
  },
  {
   "cell_type": "code",
   "execution_count": 1,
   "metadata": {},
   "outputs": [],
   "source": [
    "from urllib.request import urlopen\n",
    "import time\n",
    "from bs4 import BeautifulSoup"
   ]
  },
  {
   "cell_type": "markdown",
   "metadata": {},
   "source": [
    "# Section 0"
   ]
  },
  {
   "cell_type": "markdown",
   "metadata": {},
   "source": [
    "***\n",
    "You, a diligent and ethical individual, check the robots.txt file associated with the webpage. You find that you can only ping the site with a certain frequency.\n",
    "## Q1: Edit the below code with to assign the crawl delay to the variable `sleep_time`. "
   ]
  },
  {
   "cell_type": "code",
   "execution_count": 2,
   "metadata": {},
   "outputs": [],
   "source": [
    "sleep_time = ..."
   ]
  },
  {
   "cell_type": "markdown",
   "metadata": {},
   "source": [
    "***\n",
    "Still the ever diligent student, you decide to start with one of Jeopardies best players, Season 35's James Holzhauer, to look at his strategies and games. \n",
    "Specifically, you want to start with the game he cross the $2,000,000 threshold. \n",
    "\n",
    "## Q2: Navigate through the J! Archive pages to find the url for James' 27th game and assign it the variable `url`. "
   ]
  },
  {
   "cell_type": "code",
   "execution_count": 3,
   "metadata": {},
   "outputs": [],
   "source": [
    "url = ..."
   ]
  },
  {
   "cell_type": "markdown",
   "metadata": {},
   "source": [
    "***\n",
    "We include a check to make sure that the sleep_time has been updated. The code block will then `sleep` for that amount of time in seconds to ensure you do not send too many requests too frequently to J!Archive. If you do, you may temporarily be blocked from the site. \n",
    "\n",
    "## Q3: Using urlopen, assign the contents of the webpage to the variable html. "
   ]
  },
  {
   "cell_type": "code",
   "execution_count": 4,
   "metadata": {},
   "outputs": [],
   "source": [
    "if type(sleep_time) == int:\n",
    "    html = urlopen(url)\n",
    "    time.sleep(sleep_time)"
   ]
  },
  {
   "cell_type": "markdown",
   "metadata": {},
   "source": [
    "***\n",
    "## Q4: Verify that a 200 response code was received. \n",
    "<center><img src=\"https://http.cat/200\";   \n",
    "             width=25%;\n",
    "             height=auto;></center>\n"
   ]
  },
  {
   "cell_type": "code",
   "execution_count": null,
   "metadata": {},
   "outputs": [],
   "source": []
  },
  {
   "cell_type": "markdown",
   "metadata": {},
   "source": [
    "***\n",
    "Python has a built-in method for us to check the types of objects: type().\n",
    "## Q5: Check the type of the variable HTML"
   ]
  },
  {
   "cell_type": "code",
   "execution_count": null,
   "metadata": {},
   "outputs": [],
   "source": []
  },
  {
   "cell_type": "markdown",
   "metadata": {},
   "source": [
    "***\n",
    "\n",
    "`BeautifulSoup` helps use to make sense of what we receive from webpages. The function takes the read html (e.g. `html.read()`) as the first argument, and the type of parser as the second. Here we want to use `html.parser`. \n",
    "\n",
    "## Q6: Use the function `BeautifulSoup()` to create a new variable `bs` of the parsed HTML. Check the type of object that `bs` is. "
   ]
  },
  {
   "cell_type": "code",
   "execution_count": null,
   "metadata": {},
   "outputs": [],
   "source": []
  },
  {
   "cell_type": "markdown",
   "metadata": {},
   "source": [
    "***\n",
    "\n",
    "# Section 1. Find tags using `find_all`. \n",
    "\n",
    "Webpages use tags to sort the text and objects. These often have their own properties. We may want to get all the tags from a single page. \n",
    "\n",
    "The method `.find_all(tag)` returns set of elements filtered by the tag requested. If no tag is given, then all tags on the web page are returned. \n",
    "\n",
    "Below, you can see how we find all the tags on the webpage. "
   ]
  },
  {
   "cell_type": "code",
   "execution_count": null,
   "metadata": {},
   "outputs": [],
   "source": []
  },
  {
   "cell_type": "markdown",
   "metadata": {},
   "source": [
    "## Q1. Using the list of tag_names, find the unique tags from the webpage. \n",
    "\n",
    "You may find the function `set()` to be helpful. "
   ]
  },
  {
   "cell_type": "code",
   "execution_count": null,
   "metadata": {},
   "outputs": [],
   "source": []
  },
  {
   "cell_type": "markdown",
   "metadata": {},
   "source": [
    "***\n",
    "\n",
    "## Q2: Using the find_all method, create a new variable of only paragraph `p` tags. Then, using a for loop, print the text of the each paragraph tag. \n",
    "\n",
    "Hint: look into the `.get_text()` method. "
   ]
  },
  {
   "cell_type": "code",
   "execution_count": null,
   "metadata": {},
   "outputs": [],
   "source": []
  },
  {
   "cell_type": "markdown",
   "metadata": {},
   "source": [
    "***\n",
    "\n",
    "We can also use the `.find_all()` method to filter the soup by the class type. \n",
    "\n",
    "`bs.find_all()`\n",
    "\n",
    "Use the `inspect` on the web page in a browser to find the class name of the category headers. \n",
    "\n",
    "## Q3: Use the class_ keyword parameter to get the category names. "
   ]
  },
  {
   "cell_type": "code",
   "execution_count": null,
   "metadata": {},
   "outputs": [],
   "source": []
  },
  {
   "cell_type": "markdown",
   "metadata": {},
   "source": [
    "***\n",
    "\n",
    "# Section 2. Dynamic Tags\n",
    "\n",
    "You may notice that the web page at first glance only has the questions. It's like flashcards without the answers, unfit for our purpose. \n",
    "\n",
    "We will walk through how to get the answers from the webpage. \n",
    "\n",
    "## Q1: Use the `.find_all(\"tag\", class_=\"class\")` method to get the tags 'td' of class 'clue' and assign it to `clues`."
   ]
  },
  {
   "cell_type": "code",
   "execution_count": null,
   "metadata": {},
   "outputs": [],
   "source": []
  },
  {
   "cell_type": "markdown",
   "metadata": {},
   "source": [
    "***\n",
    "\n",
    "## Q2: Take a look at the first clue returned. In what tag is the answer given?\n",
    "\n",
    "Hint: it has a class \"correct_response\""
   ]
  },
  {
   "cell_type": "code",
   "execution_count": null,
   "metadata": {},
   "outputs": [],
   "source": []
  },
  {
   "cell_type": "markdown",
   "metadata": {},
   "source": [
    "Answer: "
   ]
  },
  {
   "cell_type": "markdown",
   "metadata": {},
   "source": [
    "***\n",
    "\n",
    "You can use the `.get()` method on a single tag to get the result of a certain attribute. Here, the correct answer is stored within `onmouseover`.\n",
    "\n",
    "## Q3: Use the `.find()` and the `.get()` methods to get the soup of the attribute `onmouseover`."
   ]
  },
  {
   "cell_type": "code",
   "execution_count": null,
   "metadata": {},
   "outputs": [],
   "source": []
  },
  {
   "cell_type": "markdown",
   "metadata": {},
   "source": [
    "***\n",
    "\n",
    "## Q4: Put together your knowledge of `.find()`, `.get()`, and .get_text()` to get the answer from the first element of clues. \n",
    "\n",
    "Hint: After applying `.get()`, you may need to change the object type back into a bs4.BeautifulSoup object"
   ]
  },
  {
   "cell_type": "code",
   "execution_count": null,
   "metadata": {},
   "outputs": [],
   "source": []
  }
 ],
 "metadata": {
  "kernelspec": {
   "display_name": "DSC495",
   "language": "python",
   "name": "dsc495"
  },
  "language_info": {
   "codemirror_mode": {
    "name": "ipython",
    "version": 3
   },
   "file_extension": ".py",
   "mimetype": "text/x-python",
   "name": "python",
   "nbconvert_exporter": "python",
   "pygments_lexer": "ipython3",
   "version": "3.10.1"
  }
 },
 "nbformat": 4,
 "nbformat_minor": 4
}
