{
 "cells": [
  {
   "cell_type": "markdown",
   "metadata": {},
   "source": [
    "# Assignment \\#05\n",
    "\n",
    "## Formatting a track list from Wikipedia\n",
    "\n",
    "**Outcomes**\n",
    "1. Put data into a useable format.\n"
   ]
  },
  {
   "cell_type": "code",
   "execution_count": 1,
   "metadata": {},
   "outputs": [],
   "source": [
    "from urllib.request import urlopen\n",
    "import time\n",
    "from bs4 import BeautifulSoup, NavigableString, Tag\n",
    "import pandas as pd"
   ]
  },
  {
   "cell_type": "markdown",
   "metadata": {},
   "source": [
    "## Q0: Using the code from class, and previous assignments and activities. Create a pandas data frame containing the all track information for an album of your choice. \n",
    "\n",
    "I have included below the code from class below. Some hints to help you complete this activity:\n",
    "\n",
    "1. Only run the urlopen() code once. This will avoid pinging wikipedia multiple times. \n",
    "1. The out dataframe should look like the table in wikipedia. \n",
    "1. You can create a pandas Series from a list. \n",
    "    \n",
    "   `pd.Series([1,2,3,4])`\n",
    "    \n",
    "1. Recall that we can create and add rows to a data frame using the below code. \n",
    "\n",
    "    `df = pd.DataFrame(columns = a_list_of_column_names)\n",
    "    df.append(pd.Series(series_to_add_here, index=df.columns), ignore_index=True)  # need index=df.columns, and ignore_index`\n",
    "    \n",
    "1. In order to create the data frame, you will need to initialize the data frame within the for loop. Make sure it is only initialized once. (Try using an if statement).\n",
    "\n",
    "1. Each loop, you will have to update the data frame with the corresponding entries. The loop_no keeps track of how many times the loop has run. You can also print the data frame to see how it changes each loop. "
   ]
  },
  {
   "cell_type": "code",
   "execution_count": 1,
   "metadata": {},
   "outputs": [],
   "source": [
    "url = ...\n",
    "html = urlopen(url)\n",
    "bs = BeautifulSoup(html, 'html.parser')"
   ]
  },
  {
   "cell_type": "code",
   "execution_count": null,
   "metadata": {},
   "outputs": [],
   "source": [
    "tabs = bs.find_all('table', {\"class\":\"tracklist\"})\n",
    "len(tabs)\n",
    "\n",
    "tabname = tabs[0].caption.get_text()\n",
    "print(tabs[0].caption.get_text())\n",
    "list(tabs[0].caption.stripped_strings)\n",
    "\n",
    "loop_no = 0 \n",
    "for tr in tabs[0].find_all('tr'):\n",
    "    print(loop_no)\n",
    "    ths = tr.find_all('th')\n",
    "    temp = list()\n",
    "    for th in ths:\n",
    "        temp.append(th.get_text())\n",
    "    print(temp)\n",
    "    \n",
    "    tds = tr.find_all('td')\n",
    "    temp_ = list()\n",
    "    for td in tds:\n",
    "        temp_.append(td.get_text())\n",
    "    print(temp_)\n",
    "    \n",
    "    loop_no += 1\n",
    "    "
   ]
  }
 ],
 "metadata": {
  "kernelspec": {
   "display_name": "DSC495",
   "language": "python",
   "name": "dsc495"
  },
  "language_info": {
   "codemirror_mode": {
    "name": "ipython",
    "version": 3
   },
   "file_extension": ".py",
   "mimetype": "text/x-python",
   "name": "python",
   "nbconvert_exporter": "python",
   "pygments_lexer": "ipython3",
   "version": "3.10.1"
  }
 },
 "nbformat": 4,
 "nbformat_minor": 4
}
