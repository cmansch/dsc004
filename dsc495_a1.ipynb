{
 "cells": [
  {
   "cell_type": "markdown",
   "metadata": {
    "id": "Z2iI3JeRWGW1"
   },
   "source": [
    "# Assignment #1\n",
    "\n",
    "## Due: 2022-01-21 @ 11:59pm\n",
    "\n",
    "In this assignment we will get familiar with notebooks and some basic Python, including the print functions and variable assignment.\n",
    "\n",
    "Different parts of the assignment have different levels of prerequisite knowledge. \n",
    "**To get full credit on the assignment, you must complete at least one credit block to demonstrate your understanding of the print function and variable assignments.**\n",
    "Completing multiple credit blocks will not increase your score.\n",
    "\n",
    "Credit Blocks:\n",
    "1. Sections I, II\n",
    "1. Section III\n",
    "1. Sections IV, V\n",
    "\n",
    "Levels III gives you a chance to work with some more advanced printing freatures in Python. Levels IV and V are challenges to demostrate your understanding of looping, lists, and dictionaries. These will become very important tools in our data science toolbox as we get more into the semester, so now is the time to start working with them.\n",
    "\n",
    "**Please save your notebook with you last name underscore assignment number, like so:** `manschot_a01.ipynb`\n",
    "___\n",
    "For this class, I encourage the use of Notebooks to prototype work. In the future (either later in this class or beyond) you will likely want to write programs (.py) designed to run on all by themselves or interactively for end-users. But we generally will skip over that for now.\n",
    "\n",
    "As for working in Notebooks, there are two types of blocks: code blocks that hold executable code and markdown blocks that hold a special kind of text that follows the markdown syntax. To get familiar with the markdown syntax, take a look at this website: [https://www.markdownguide.org/basic-syntax/](https://www.markdownguide.org/basic-syntax/)."
   ]
  },
  {
   "cell_type": "markdown",
   "metadata": {
    "id": "xC3V5EVtWGW2"
   },
   "source": [
    "Name:\n",
    "\n",
    "Date:"
   ]
  },
  {
   "cell_type": "markdown",
   "metadata": {
    "id": "2N1S9KPKWGW2"
   },
   "source": [
    "\n",
    "## Section I:\n",
    "\n",
    "Edit the code blocks below to answer each question with you own answer."
   ]
  },
  {
   "cell_type": "code",
   "execution_count": null,
   "metadata": {
    "id": "NPbgFEvjWGW3"
   },
   "outputs": [],
   "source": [
    "# One thing to get used to: many programming languages start counting at element 0.\n",
    "# So question 6 is actually the 7th question in the list above.\n",
    "# It will take some time to get used to, expect to make off-by-one errors until this\n",
    "# approach becomes second nature.\n",
    "print(\"Question 0: What is your name and preferred pronouns?\")\n",
    "print(\"Your answer here\")\n",
    "\n",
    "print(\"\\nQuestion 1: What is your major (and minor(s)), terminal degree, and year?\")\n",
    "print(\"Your answer here\")\n",
    "\n",
    "print(\"\\nQuestion 2: What interests you in data science?\")\n",
    "print(\"Your answer here\")\n",
    "\n",
    "print(\"\\nQuestion 3: What would you like to get out of this class?\")\n",
    "print(\"Your answer here\")\n",
    "\n",
    "print(\"\\nQuestion 4: Do you have any concerns about this class that you'd like to share?\")\n",
    "print(\"Your answer here\")\n",
    "\n",
    "print(\"\\nQuestion 5: What is your prior programming experience?\")\n",
    "print(\"Your answer here\")\n",
    "\n",
    "print(\"\\nQuestion 6: What future data science experiences would you like to pursue?\")\n",
    "print(\"Your answer here\")\n",
    "\n",
    "print(\"\\nQuestion 7: If you would like to, share a boring fact about yourself.\")\n",
    "print(\"Your answer here\")"
   ]
  },
  {
   "cell_type": "markdown",
   "metadata": {
    "id": "dc0AKfniWGW4"
   },
   "source": [
    "Notice how this print statement uses a special string character: `\\n`. The leading slash `\\` is special - it's called an escape charater. The following character tells python what to do with that escape charater. In our case, the `n` indicates there should be a new line before the rest of the text is printed. There are a number of special charaters you can find in Python. If you ever need to print a backslash, you can use it's own special character sequence: `\\\\`.\n",
    "\n",
    "The backslash can also be used to continue a long line of code. Most standards recommend no more than 80 characters, including spaces, on a single line of code. I only suggest using a continuation backslash if you cannot find a place in your code to split the line neatly. We'll see examples of that later in class."
   ]
  },
  {
   "cell_type": "markdown",
   "metadata": {
    "id": "B58AUa5dWGW4"
   },
   "source": [
    "## Section II:\n",
    "\n",
    "The `=` character is not an equal sign in python. It's used for assignment. The name on the left is being assigned the object on the right. In our case, we want to assign a string to some variable name.\n",
    "\n",
    "Variable names should be informative so that you know what they mean when you come back to your code. For example, you might forget what `answer_0` means, and without good commenting someone else reading you code will likely be confused too, but `my_name` gives a pretty good indication of what that variable holds.\n",
    "\n",
    "There are also some common conventions on how to name variables. For now, we will primarily use lower case words separated by underscores.\n",
    "\n",
    "Let's practice. Assign your answers to a new variable and print your answers. Here's an example:\n",
    "\n",
    "```\n",
    "my_name = \"Prof Manschot\"\n",
    "print(\"Question 0: What is your name?\")\n",
    "print(my_name)\n",
    "```\n",
    "\n",
    "You can also put the variable and other text string together in a print function separated by commas, like this:\n",
    "```\n",
    "print(\"Question 0: What is your name?\\n\", my_name)\n",
    "```\n",
    "\n",
    "Copy the first code block with the questions and edit it to assign a *new* variable for each answer, and then print the strings using one of the print approaches above."
   ]
  },
  {
   "cell_type": "code",
   "execution_count": null,
   "metadata": {
    "id": "Lh5vWfegWGW5"
   },
   "outputs": [],
   "source": []
  },
  {
   "cell_type": "markdown",
   "metadata": {
    "id": "mxxeE4jYWGW5"
   },
   "source": [
    "## Section III:\n",
    "\n",
    "Python offers a variety of ways to print, so let's explore two of them. They are the `.format()` and `f-string` methods. Both of these methods give you a greater degree of control over print formatting, especially when dealing with a lot of variables in a single print statement. \n",
    "\n",
    "What these methods have in common is the use of curly brackets `{}` used as placeholders where a variable will be printed inside the string.\n",
    "\n",
    "With `.format()`, the curly brackets in the string are empty, and the format function holds the variable(s) that are to be printed at each curly bracket. If the number of variables in the function does *not* match the number of curly brackets, an error will be given.\n",
    "```\n",
    "my_name = \"Prof Manschot\"\n",
    "print(\"Question 0: What is your name?\\n{}\".format(my_name))\n",
    "```\n",
    "\n",
    "The f-string approach requires us to put the letter f before the opening quotation mark. The actual variable name is then put inside the curly brackets.\n",
    "```\n",
    "my_name = \"Nick\"\n",
    "print(f\"\\nQuestion 0: What is your name?\\n{my_name}\")\n",
    "```\n",
    "\n",
    "Copy your code block where you assign you answers to variables and practice printing your answers with .format() and f-strings."
   ]
  },
  {
   "cell_type": "code",
   "execution_count": null,
   "metadata": {
    "id": "C6EzqsbiWGW6"
   },
   "outputs": [],
   "source": []
  },
  {
   "cell_type": "markdown",
   "metadata": {
    "id": "Yk_DdmiVWGW6"
   },
   "source": [
    "## Section IV:\n",
    "\n",
    "This section requires prior knowledge of data type lists and for loops.  \n",
    "\n",
    "* Creating two lists: one with the question prompts and one with your answers.\n",
    "* Use a for loop to print your question and answer pairs from the two lists."
   ]
  },
  {
   "cell_type": "code",
   "execution_count": null,
   "metadata": {
    "id": "glBjJTIGWGW6"
   },
   "outputs": [],
   "source": []
  },
  {
   "cell_type": "markdown",
   "metadata": {
    "id": "Ip3-Nh-GWGW7"
   },
   "source": [
    "## Section V:\n",
    "\n",
    "This section requires prior knowledge of data type lists and dictionaries, for loops. \n",
    "\n",
    "* Combine the dict() and zip() functions to create a dictionary of question keys and answer values.\n",
    "* loop through the dictionary key / value pairs and print your questions and answers.\n",
    "** Use any print approach you would like, or .format() and f-string approaches."
   ]
  },
  {
   "cell_type": "code",
   "execution_count": null,
   "metadata": {
    "id": "mcmCouXTWGW7"
   },
   "outputs": [],
   "source": []
  }
 ],
 "metadata": {
  "colab": {
   "name": "dsc495-001_a1.ipynb",
   "provenance": []
  },
  "interpreter": {
   "hash": "f91f805faaffa1c8e7a5610c1cf2edd291213a99bec4fda7ea9086a30992b637"
  },
  "kernelspec": {
   "display_name": "Python 3",
   "language": "python",
   "name": "python3"
  },
  "language_info": {
   "codemirror_mode": {
    "name": "ipython",
    "version": 3
   },
   "file_extension": ".py",
   "mimetype": "text/x-python",
   "name": "python",
   "nbconvert_exporter": "python",
   "pygments_lexer": "ipython3",
   "version": "3.7.9"
  }
 },
 "nbformat": 4,
 "nbformat_minor": 4
}
